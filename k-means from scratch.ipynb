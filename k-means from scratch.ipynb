{
 "cells": [
  {
   "cell_type": "code",
   "execution_count": 1,
   "id": "1536b043",
   "metadata": {},
   "outputs": [],
   "source": [
    "import pandas as pd\n",
    "import random\n",
    "\n",
    "train=pd.read_csv(\"iris_train.csv\")\n",
    "test=pd.read_csv(\"iris_test.csv\")\n",
    "\n",
    "merge=pd.merge(train,test,how=\"outer\")"
   ]
  },
  {
   "cell_type": "code",
   "execution_count": 2,
   "id": "caa4d170",
   "metadata": {},
   "outputs": [],
   "source": [
    "import matplotlib.pyplot as plt\n",
    "from IPython.display import clear_output\n",
    "from IPython import display\n",
    "import time\n",
    "\n",
    "\n",
    "def list_vis(data, labels, centroids,iteration):\n",
    "    plt.title(f\"Iteration{iteration}\")\n",
    "    \n",
    "    x = [x[0] for x in data]\n",
    "    y = [x[3] for x in data]\n",
    "    plt.scatter(x, y, c=labels)\n",
    "\n",
    "    x = [x[0] for x in centroids]\n",
    "    y = [x[3] for x in centroids]\n",
    "    plt.scatter(x, y, c='black',s=75)\n",
    "    \n",
    "    plt.show()\n",
    "    display.display(plt.gcf())\n",
    "    display.clear_output(wait=True)\n",
    "    time.sleep(0.7)\n",
    "    \n",
    "def np_vis(data,labels, centroid, iteration):\n",
    "    plt.title(f\"Iteration {iteration}\")\n",
    "    plt.scatter(x=data[:,0],y=data[:,3], c=labels)\n",
    "    plt.scatter(x=centroid[:,0],y=centroid[:,3],c='black', s=75)\n",
    "    plt.show\n",
    "    display.display(plt.gcf())\n",
    "    display.clear_output(wait=True)\n",
    "    time.sleep(0.7)"
   ]
  },
  {
   "cell_type": "markdown",
   "id": "942628ba",
   "metadata": {},
   "source": [
    "# TASK 1: Using only list without numpy"
   ]
  },
  {
   "cell_type": "code",
   "execution_count": 3,
   "id": "4c579d8a",
   "metadata": {},
   "outputs": [
    {
     "data": {
      "text/plain": [
       "<Figure size 640x480 with 0 Axes>"
      ]
     },
     "metadata": {},
     "output_type": "display_data"
    }
   ],
   "source": [
    "data=list(merge.values)\n",
    "for i in range(len(data)):\n",
    "    data[i]=list(data[i][:-1])\n",
    "    \n",
    "    \n",
    "\n",
    "def k_mean(data,k=5,max_itr=25):\n",
    "    center=[]\n",
    "    for i in range(k):\n",
    "        center.append(random.choice(data))\n",
    "        \n",
    "\n",
    "    def distance(list1, list2):\n",
    "        distance = 0\n",
    "        for i in range(len(list1)):\n",
    "            distance += (list1[i] - list2[i]) ** 2\n",
    "        return distance ** 0.5\n",
    "\n",
    "    \n",
    "    new_center=[]\n",
    "    iteration=0\n",
    "    while new_center != center and iteration!=max_itr:\n",
    "        new_center=center.copy()\n",
    "        iteration+=1\n",
    "\n",
    "\n",
    "        dis=[]\n",
    "        for i in range(len(data)):\n",
    "            row=[] #row=distance for each point to centroid k\n",
    "            for u in range(k):\n",
    "                row.append(distance(data[i],center[u]))\n",
    "            dis.append(row)\n",
    "        # to get index that assosited to the closest centroid\n",
    "        labels=[]\n",
    "        for i in range(len(dis)):\n",
    "            Min=min(dis[i])\n",
    "            Index=dis[i].index(Min)\n",
    "            labels.append(Index)\n",
    "            \n",
    "        clusters = []\n",
    "        for q in range(k):\n",
    "            points = []\n",
    "            for j in range(len(labels)):\n",
    "                if labels[j] == q:\n",
    "                    points.append(data[j]) #put the the points which is belong to the same centriod in own list\n",
    "            clusters.append(points)  # if k =5 so 5list each list include centriods\n",
    "            \n",
    "        for m in range(k):\n",
    "            mean = []\n",
    "            for i in range(len(data[0])): \n",
    "                total = 0\n",
    "                for x in clusters[m]:\n",
    "                    \n",
    "                    total += x[i]\n",
    "                    \n",
    "                mean.append(total / len(clusters[m])) \n",
    "            center[m]= mean\n",
    "        list_vis(data, labels, center,iteration)\n",
    "    #return labels, center\n",
    "                                \n",
    "k_mean(data,k=3,max_itr=25)"
   ]
  },
  {
   "cell_type": "markdown",
   "id": "bada56fe",
   "metadata": {},
   "source": [
    "# TASK 2: Using numpy"
   ]
  },
  {
   "cell_type": "code",
   "execution_count": 4,
   "id": "41f4adf4",
   "metadata": {},
   "outputs": [
    {
     "data": {
      "text/plain": [
       "(array([1, 0, 1, 1, 1, 2, 1, 0, 0, 1, 0, 0, 0, 1, 1, 0, 0, 0, 2, 0, 0, 1,\n",
       "        0, 1, 2, 0, 0, 0, 0, 0, 0, 1, 1, 2, 0, 1, 0, 2, 1, 1, 2, 1, 0, 1,\n",
       "        0, 1, 0, 1, 0, 0, 2, 1, 1, 0, 2, 1, 1, 2, 2, 0, 2, 2, 2, 0, 2, 0,\n",
       "        2, 1, 1, 1, 1, 2, 1, 0, 2, 1, 0, 1, 1, 1, 1, 1, 1, 1, 0, 1, 2, 1,\n",
       "        2, 2, 1, 1, 2, 1, 1, 2, 2, 0, 1, 0, 0, 0, 0, 0, 0, 0, 0, 0, 0, 0,\n",
       "        0, 0, 0, 0, 0, 0, 1, 1, 2, 1, 2, 1, 2, 2, 2, 1, 2, 2, 2, 2, 2, 2,\n",
       "        2, 1, 1, 1, 1, 1, 1, 1, 1, 1, 1, 1, 1, 1, 1, 1, 1, 1]),\n",
       " array([[0.19611111, 0.59083333, 0.07864407, 0.06      ],\n",
       "        [0.63504274, 0.41794872, 0.73794003, 0.75064103],\n",
       "        [0.37777778, 0.26190476, 0.52106538, 0.48214286]]))"
      ]
     },
     "execution_count": 4,
     "metadata": {},
     "output_type": "execute_result"
    }
   ],
   "source": [
    "import numpy as np\n",
    "data=merge.values\n",
    "data=data[:,:-1]\n",
    "\n",
    "def k_mean_np(data,k=3,max_itr=25):\n",
    "    center= np.random.random([k,len(data[0])])\n",
    "    dis= np.zeros([len(data),k])\n",
    "    iteration=0\n",
    "    \n",
    "    #k zeros centers ==k\n",
    "    new_center=np.zeros_like(center)\n",
    "    \n",
    "    while ((new_center!=center).all()) and iteration != max_itr:\n",
    "        new_center=np.copy(center)\n",
    "\n",
    "        for i in range(k):\n",
    "            dis[:,i]=(((center[i]-data)**2).sum(axis=1)**0.5)\n",
    "        labels=np.argmin(dis,axis=1)\n",
    "    \n",
    "        for i in range(k):\n",
    "            center[i]=data[labels==i].mean(axis=0)\n",
    "        \n",
    "#        np_vis(data, labels, center, iteration)\n",
    "\n",
    "        iteration+=1\n",
    "    return labels, center\n",
    "    \n",
    "k_mean_np(data,k=3,max_itr=25)"
   ]
  },
  {
   "cell_type": "code",
   "execution_count": 5,
   "id": "8b488f04",
   "metadata": {},
   "outputs": [
    {
     "data": {
      "image/png": "[encoded data removed]",
      "text/plain": [
       "<Figure size 640x480 with 1 Axes>"
      ]
     },
     "metadata": {},
     "output_type": "display_data"
    }
   ],
   "source": [
    "data=merge.values\n",
    "x=data[:,:-1]\n",
    "y_test=data[:,-1]\n",
    "\n",
    "from sklearn.preprocessing import LabelEncoder\n",
    "le = LabelEncoder()\n",
    "le.fit(y_test)\n",
    "labels = le.transform(y_test)\n",
    "\n",
    "center= np.random.random([3,len(x[0])])\n",
    "for i in range(3):\n",
    "    center[i]=x[labels==i].mean(axis=0)\n",
    "    \n",
    "\n",
    "np_vis(x, labels, center, 0)\n"
   ]
  },
  {
   "cell_type": "code",
   "execution_count": null,
   "id": "dec3941f",
   "metadata": {},
   "outputs": [],
   "source": []
  }
 ],
 "metadata": {
  "kernelspec": {
   "display_name": "Python 3 (ipykernel)",
   "language": "python",
   "name": "python3"
  },
  "language_info": {
   "codemirror_mode": {
    "name": "ipython",
    "version": 3
   },
   "file_extension": ".py",
   "mimetype": "text/x-python",
   "name": "python",
   "nbconvert_exporter": "python",
   "pygments_lexer": "ipython3",
   "version": "3.10.7"
  }
 },
 "nbformat": 4,
 "nbformat_minor": 5
}
