{
 "cells": [
  {
   "cell_type": "code",
   "execution_count": 13,
   "metadata": {},
   "outputs": [],
   "source": [
    "#description: create neural network from scratch that takes any number of layer and nuron in each layer\n",
    "\n",
    "#import libraries\n",
    "import numpy as np\n",
    "from sklearn.model_selection import train_test_split\n",
    "import matplotlib.pyplot as plt\n",
    "\n",
    "x = np.linspace(-3, 5, 500)\n",
    "y = 1 / (1 + np.exp(-x)) + 1 / (1 + np.exp(-(3 - x)))\n",
    "y = np.sin(x) + 1 / (1 + np.exp(-x))\n",
    "y = 1 / (1 + np.exp(-x)) + 1 / (1 + np.exp(-(3 - x))) + 1 / (1 + np.exp(-(x + 3)))\n",
    "y = 1 / (1 + np.exp(-2 * x)) + 1 / (1 + np.exp(-(3 - x)))\n",
    "y = np.sin(x) + np.random.normal(0, 0.2, 500) \n",
    "y= x*2\n",
    "\n",
    "\n",
    "#split data\n",
    "x_train, x_test, y_train, y_test = train_test_split(x, y, train_size=300, random_state=10)\n",
    "\n",
    "#reshape data\n",
    "X_train = x_train.reshape(1, -1)\n",
    "Y_train = y_train.reshape(1, len(y_train))\n",
    "X_test = x_test.reshape(1, len(x_test))\n",
    "Y_test = y_test.reshape(1, len(y_test))\n",
    "\n",
    "\n",
    "\n",
    "\n"
   ]
  },
  {
   "cell_type": "code",
   "execution_count": 14,
   "metadata": {
    "scrolled": true
   },
   "outputs": [],
   "source": [
    "#initialize parameters for neural network\n",
    "def initialize_parameters(Architecture):\n",
    "    b_list=[]\n",
    "    w_list=[]\n",
    "    np.random.seed(3)\n",
    "    for i in range(1,len(Architecture)):\n",
    "        b_list.append(np.random.rand(Architecture[i], 1))\n",
    "        #print(f\"b{i}={Architecture[i]},1\")\n",
    "\n",
    "        w_list.append(np.random.rand(Architecture[i], Architecture[i-1]))\n",
    "        #print(f\"w{i}={Architecture[i]},{Architecture[i-1]}\")\n",
    "        \n",
    "    return b_list, w_list\n",
    "\n"
   ]
  },
  {
   "cell_type": "code",
   "execution_count": 1,
   "metadata": {},
   "outputs": [],
   "source": [
    "def sigmoid(x):\n",
    "    return 1 / (1 + np.exp(-x))\n",
    "def sigmoid_derivative(x):\n",
    "    return sigmoid(x)*(1-sigmoid(x))\n",
    "\n",
    "def linear(x):\n",
    "    return x\n",
    "def linear_derivative(x):\n",
    "    return 1\n",
    "\n",
    "def loss_function(y, y_hat):\n",
    "    return (1/len(y)) * np.sum((y-y_hat)**2)\n",
    "def loss_derivative(y, y_hat):\n",
    "    return ((2/len(y)) * (y_hat-y))\n",
    "\n",
    "#softmax input->exponentiate-->Normalize-->output \n",
    "#axis=0 the sum of column\n",
    "#\n",
    "def softmax(x):\n",
    "    #overflow prevention x = x - max(x) because the exp\n",
    "    exp_x = np.exp(x - np.max(x))  \n",
    "    #normlize\n",
    "    return exp_x / exp_x.sum(axis=0)\n",
    "\n",
    "def softmax_derivative(x):\n",
    "    softmax_x = softmax(x)\n",
    "    return softmax_x * (1 - softmax_x)\n",
    "\n",
    "def relu(x):\n",
    "    return np.maximum(0, x)\n",
    "def relu_derivative(x):\n",
    "    return np.where(x > 0, 1, 0)\n",
    "\n",
    "\n",
    "def cross_entropy(y_true, y_pred):\n",
    "    epsilon = 1e-15  # Small constant to prevent log(0)\n",
    "    y_pred = np.clip(y_pred, epsilon, 1 - epsilon)  # Clip values to avoid numerical issues\n",
    "    loss = - (y_true * np.log(y_pred) + (1 - y_true) * np.log(1 - y_pred))\n",
    "    return np.mean(loss)\n",
    "def binary_cross_entropy_loss_derivative(y_true, y_pred):\n",
    "    epsilon = 1e-15  # Small constant to prevent division by zero\n",
    "    y_pred = np.clip(y_pred, epsilon, 1 - epsilon)  # Clip values to avoid numerical issues\n",
    "    derivative = (y_pred - y_true) / (y_pred * (1 - y_pred))\n",
    "    return derivative\n",
    "\n"
   ]
  },
  {
   "cell_type": "code",
   "execution_count": 16,
   "metadata": {
    "scrolled": true
   },
   "outputs": [],
   "source": [
    "def forward_propagation(X, b_list, w_list, activation):\n",
    "    n_layers=len(b_list)\n",
    "    z_list=[]\n",
    "    a_list=[X] #input \n",
    "    \n",
    "    for i in range(n_layers):\n",
    "        #print(f\"z{i+1} = W{i+1} @ a{i} + B{i+1} \")\n",
    "        z_list.append(w_list[i]@a_list[i]+b_list[i])\n",
    "        \n",
    "        if activation[i]==\"sigmoid\":\n",
    "            #print(f\"a{i+1} = sigmid(z{i+1})\")\n",
    "            a_list.append(sigmoid(z_list[i]))\n",
    "            \n",
    "        elif activation[i]==\"linear\":\n",
    "            #print(f\"a{i+1} = linear(z{i+1})\")\n",
    "            a_list.append(linear(z_list[i]))\n",
    "            \n",
    "        elif activation[i]==\"softmax\":\n",
    "            #print(f\"a{i+1} = softmax(z{i+1})\")\n",
    "            a_list.append(softmax(z_list[i]))\n",
    "            \n",
    "        elif activation[i]==\"relu\":\n",
    "            #print(f\"a{i+1} = relu(z{i+1})\")\n",
    "            a_list.append(relu(z_list[i]))\n",
    "            \n",
    "    return a_list, z_list\n",
    "\n",
    "\n"
   ]
  },
  {
   "cell_type": "code",
   "execution_count": 17,
   "metadata": {},
   "outputs": [],
   "source": [
    "def backpropagation(Y, a_list, z_list, w_list, b_list,activation):\n",
    "    n_layers = len(a_list) - 1  # Minus 1 because we do not include the input layer\n",
    "\n",
    "    dw_list = [0] * n_layers\n",
    "    db_list = [0] * n_layers\n",
    "    \n",
    "    da = loss_derivative(Y, a_list[-1])\n",
    "    for i in reversed(range(n_layers)):\n",
    "        #print(i)\n",
    "        if activation[i] == \"sigmoid\":\n",
    "            #print(activation[i])\n",
    "            da = da * sigmoid_derivative(z_list[i])\n",
    "        elif activation[i] == \"linear\":\n",
    "            da = da * linear_derivative(z_list[i])\n",
    "        elif activation[i] == \"softmax\":\n",
    "            da = da * softmax_derivative(z_list[i])\n",
    "        elif activation[i] == \"relu\":\n",
    "            da = da * relu_derivative(z_list[i])\n",
    "\n",
    "            \n",
    "        #print(da.shape)\n",
    "        dw = da @ a_list[i].T / Y.size\n",
    "        db = np.sum(da, axis=1, keepdims=True) / Y.size\n",
    "        da =  w_list[i].T @ da\n",
    "        #print(db)\n",
    "\n",
    "        \n",
    "        dw_list[i] = dw\n",
    "        db_list[i] = db\n",
    "        \n",
    "    return dw_list, db_list\n",
    "        \n",
    "    \n"
   ]
  },
  {
   "cell_type": "code",
   "execution_count": 20,
   "metadata": {},
   "outputs": [
    {
     "name": "stdout",
     "output_type": "stream",
     "text": [
      "5152.93963408694\n",
      "16.978895084234278\n",
      "2.3901744011415644\n",
      "0.796592730531366\n",
      "0.36246744568840344\n",
      "0.19046389235578526\n",
      "0.10991578280800021\n",
      "0.06661655239135313\n",
      "0.043106544833954805\n",
      "0.02988710489799086\n"
     ]
    }
   ],
   "source": [
    "Architecture=[1,1,1]  #fisrt index is the number of input data\n",
    "activation=[\"relu\",\"linear\"]\n",
    "learning_rate=0.01\n",
    "itr = 10000\n",
    "\n",
    "def train(X_train, Y_train, Architecture, activation,itr=10000, learning_rate=0.01 ):\n",
    "    b_list, w_list=initialize_parameters(Architecture)\n",
    "    lossx_plot=[]\n",
    "    lossy_plot=[]\n",
    "    loss_1, loss = 5,3\n",
    "    \n",
    "    for i in range(itr):\n",
    "        a_list, z_list=forward_propagation(X_train, b_list, w_list, activation)  \n",
    "        dw_list, db_list= backpropagation(Y_train, a_list, z_list, w_list, b_list,activation)\n",
    "        if loss == loss_1:\n",
    "            print(f\"Converige at {loss}\")\n",
    "            break\n",
    "        loss_1 = loss\n",
    "        for j in range(len(w_list)):\n",
    "            w_list[j] -= learning_rate * dw_list[j]\n",
    "            b_list[j] -= learning_rate * db_list[j]\n",
    "            loss = loss_function(Y_train, a_list[-1])\n",
    "            lossy_plot.append(loss)\n",
    "            lossx_plot.append(i)\n",
    "            \n",
    "        if i % (itr/10) == 0:\n",
    "            print(loss)\n",
    "            \n",
    "\n",
    "    return b_list, w_list,lossx_plot, lossy_plot\n",
    "    \n",
    "b_list, w_list,lossx_plot ,lossy_plot = train(X_train, Y_train, Architecture, activation,itr, learning_rate)\n",
    "            \n",
    "def test(X_test,b_list, w_list,activation):\n",
    "    a_list, z_list=forward_propagation(X_test, b_list, w_list,activation)\n",
    "    return z_list[-1]\n",
    "    \n",
    "Y_hat = test(X_test,b_list, w_list,activation )\n"
   ]
  },
  {
   "cell_type": "code",
   "execution_count": 21,
   "metadata": {},
   "outputs": [
    {
     "data": {
      "text/plain": [
       "<Figure size 640x480 with 0 Axes>"
      ]
     },
     "metadata": {},
     "output_type": "display_data"
    },
    {
     "data": {
      "image/png": "[encoded data removed]",
      "text/plain": [
       "<Figure size 640x480 with 2 Axes>"
      ]
     },
     "metadata": {},
     "output_type": "display_data"
    }
   ],
   "source": [
    "plt.figure()\n",
    "\n",
    "fig, axes = plt.subplots(nrows= 2, ncols=1) #figsize=(30,30)\n",
    "\n",
    "axes[0].set_title(\"Data\")\n",
    "axes[0].set_xlabel(\"X axis\")\n",
    "axes[0].set_ylabel(\"Y axis\") \n",
    "\n",
    "axes[1].set_title(\"Error\")\n",
    "axes[1].set_xlabel(\"Number of iteration\") \n",
    "axes[1].set_ylabel(\"Losses\") \n",
    "\n",
    "axes[0].scatter(X_test,Y_test, label= \"Actual data\",alpha=0.8, edgecolor='black', linewidth=1 )\n",
    "axes[0].scatter(X_test,Y_hat,c=\"r\", label= \"Predicted data\", linewidth=1,alpha=0.2)\n",
    "\n",
    "axes[1].plot(lossx_plot, lossy_plot,color=\"black\", label = \"Losses\", linewidth=1)\n",
    "\n",
    "\n",
    "axes[0].legend()\n",
    "axes[1].legend()\n",
    "\n",
    "plt.tight_layout()\n",
    "plt.show() "
   ]
  },
  {
   "cell_type": "code",
   "execution_count": null,
   "metadata": {},
   "outputs": [],
   "source": []
  },
  {
   "cell_type": "code",
   "execution_count": null,
   "metadata": {},
   "outputs": [],
   "source": []
  },
  {
   "cell_type": "code",
   "execution_count": null,
   "metadata": {},
   "outputs": [],
   "source": []
  }
 ],
 "metadata": {
  "kernelspec": {
   "display_name": "Python 3 (ipykernel)",
   "language": "python",
   "name": "python3"
  },
  "language_info": {
   "codemirror_mode": {
    "name": "ipython",
    "version": 3
   },
   "file_extension": ".py",
   "mimetype": "text/x-python",
   "name": "python",
   "nbconvert_exporter": "python",
   "pygments_lexer": "ipython3",
   "version": "3.10.7"
  }
 },
 "nbformat": 4,
 "nbformat_minor": 2
}
