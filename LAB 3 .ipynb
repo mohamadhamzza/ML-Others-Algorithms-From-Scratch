{
 "cells": [
  {
   "cell_type": "code",
   "execution_count": 1,
   "id": "af9565de",
   "metadata": {},
   "outputs": [],
   "source": [
    "#creating the Node class the attributes that fits the binary tree\n",
    "class Node:\n",
    "\n",
    "    def __init__(self, key):\n",
    "        self.left = None\n",
    "        self.right = None\n",
    "        self.val = key\n",
    "        \n",
    "# build the binary tree using the stack\n",
    "    def constructTree(prefix):\n",
    "        #thats the operator list the function will check it \n",
    "        def isOperator(c):\n",
    "            if (c == \"+\" or\n",
    "                    c == \"-\" or\n",
    "                    c == \"*\" or\n",
    "                    c == \"/\" or\n",
    "                    c == \"^\"):\n",
    "                return True\n",
    "            else:\n",
    "                return False\n",
    "        stack = []\n",
    "        Exp = prefix.split( \" \")\n",
    "        for char in reversed(Exp):\n",
    "            t = Node(char)\n",
    "            if  isOperator(char):\n",
    "                t1 = stack.pop()\n",
    "                \n",
    "                t2 = stack.pop()\n",
    "                t.left = t1\n",
    "                t.right= t2\n",
    "\n",
    "            stack.append(t)\n",
    "        t = stack.pop()\n",
    "        return t\n",
    "    \n",
    "    #Convert the binary tree to postfix and infix using recursion\n",
    "    def Postfix(self):\n",
    "        \n",
    "        if self.left:\n",
    "            self.left.Postfix()\n",
    "        if self.right:\n",
    "            self.right.Postfix()\n",
    "        print(self.val,end=\" \")\n",
    "\n",
    "    def Infix(self):\n",
    "        if self.left:\n",
    "            self.left.Infix()\n",
    "        print(self.val,end=\" \")\n",
    "        if self.right:\n",
    "            self.right.Infix()\n",
    "            \n",
    "     # evalutae the Binary tree        \n",
    "    def evaluate(self):\n",
    "        \n",
    "\n",
    "        if self.left is None and self.right is None: \n",
    "            return int(self.val)\n",
    "\n",
    "        \n",
    "        left_sum = self.left.evaluate()\n",
    "        right_sum = self.right.evaluate()\n",
    "\n",
    "        if self.val == '+':\n",
    "\n",
    "            print(str(left_sum) + ' + ' + str(right_sum) +\n",
    "              \" : \" + str(left_sum + right_sum))\n",
    "            return left_sum + right_sum\n",
    "        if self.val == '-':\n",
    "            print(str(left_sum) + ' - ' + str(right_sum) +\n",
    "                  \" : \" + str(left_sum - right_sum))\n",
    "            return left_sum - right_sum\n",
    "        if self.val == '*':\n",
    "            print(str(left_sum) + ' * ' + str(right_sum) +\n",
    "                  \" : \" + str(left_sum * right_sum))\n",
    "            return left_sum * right_sum\n",
    "        if self.val == '/':\n",
    "            print(str(left_sum) + ' / ' + str(right_sum) +\n",
    "                  \" : \" + str(left_sum / right_sum))\n",
    "            return left_sum / right_sum            \n",
    "\n",
    "        \n",
    "#using levelorder to get the shallowest path to number \n",
    "    def path(self, k):\n",
    "        if self.val == k:\n",
    "            return [self.val]\n",
    "        if self.left:\n",
    "            res = self.left.path(k)\n",
    "            if res:\n",
    "                return [self.val] + res\n",
    "        if self.right:\n",
    "            res = self.right.path(k)\n",
    "            if res:\n",
    "                return [self.val] + res\n",
    "        return []\n",
    "        "
   ]
  },
  {
   "cell_type": "code",
   "execution_count": 2,
   "id": "953c5f95",
   "metadata": {},
   "outputs": [
    {
     "name": "stdout",
     "output_type": "stream",
     "text": [
      "['-', '*', '3']\n"
     ]
    }
   ],
   "source": [
    "Tree=\"- * 5 3 6\"\n",
    "r= Node.constructTree(Tree)\n",
    "x=r.path(\"3\")\n",
    "print(x)"
   ]
  },
  {
   "cell_type": "code",
   "execution_count": null,
   "id": "7ed36da9",
   "metadata": {},
   "outputs": [],
   "source": [
    "\n"
   ]
  },
  {
   "cell_type": "code",
   "execution_count": null,
   "id": "1eda028c",
   "metadata": {},
   "outputs": [],
   "source": []
  }
 ],
 "metadata": {
  "kernelspec": {
   "display_name": "Python 3 (ipykernel)",
   "language": "python",
   "name": "python3"
  },
  "language_info": {
   "codemirror_mode": {
    "name": "ipython",
    "version": 3
   },
   "file_extension": ".py",
   "mimetype": "text/x-python",
   "name": "python",
   "nbconvert_exporter": "python",
   "pygments_lexer": "ipython3",
   "version": "3.10.7"
  }
 },
 "nbformat": 4,
 "nbformat_minor": 5
}
