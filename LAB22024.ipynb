{
 "cells": [
  {
   "cell_type": "code",
   "execution_count": 1,
   "id": "093420ec",
   "metadata": {},
   "outputs": [],
   "source": [
    "import pandas as pd\n",
    "import numpy as np\n",
    "import time\n",
    "from sklearn import metrics\n",
    "import math\n",
    "from collections import Counter\n",
    "train=pd.read_csv(\"iris_train.csv\")\n",
    "test=pd.read_csv(\"iris_test.csv\")\n",
    "\n"
   ]
  },
  {
   "cell_type": "markdown",
   "id": "fb735ea2",
   "metadata": {},
   "source": [
    "# 1 List "
   ]
  },
  {
   "cell_type": "code",
   "execution_count": 2,
   "id": "8c535c49",
   "metadata": {},
   "outputs": [
    {
     "name": "stdout",
     "output_type": "stream",
     "text": [
      "Classification accuracy: 100.0 %\n"
     ]
    },
    {
     "data": {
      "text/plain": [
       "(None,\n",
       " ['Iris-setosa',\n",
       "  'Iris-setosa',\n",
       "  'Iris-setosa',\n",
       "  'Iris-setosa',\n",
       "  'Iris-setosa',\n",
       "  'Iris-setosa',\n",
       "  'Iris-setosa',\n",
       "  'Iris-setosa',\n",
       "  'Iris-setosa',\n",
       "  'Iris-setosa',\n",
       "  'Iris-setosa',\n",
       "  'Iris-setosa',\n",
       "  'Iris-setosa',\n",
       "  'Iris-setosa',\n",
       "  'Iris-setosa',\n",
       "  'Iris-setosa',\n",
       "  'Iris-versicolor',\n",
       "  'Iris-versicolor',\n",
       "  'Iris-versicolor',\n",
       "  'Iris-versicolor',\n",
       "  'Iris-versicolor',\n",
       "  'Iris-versicolor',\n",
       "  'Iris-versicolor',\n",
       "  'Iris-versicolor',\n",
       "  'Iris-versicolor',\n",
       "  'Iris-versicolor',\n",
       "  'Iris-versicolor',\n",
       "  'Iris-versicolor',\n",
       "  'Iris-versicolor',\n",
       "  'Iris-versicolor',\n",
       "  'Iris-versicolor',\n",
       "  'Iris-versicolor',\n",
       "  'Iris-versicolor',\n",
       "  'Iris-virginica',\n",
       "  'Iris-virginica',\n",
       "  'Iris-virginica',\n",
       "  'Iris-virginica',\n",
       "  'Iris-virginica',\n",
       "  'Iris-virginica',\n",
       "  'Iris-virginica',\n",
       "  'Iris-virginica',\n",
       "  'Iris-virginica',\n",
       "  'Iris-virginica',\n",
       "  'Iris-virginica',\n",
       "  'Iris-virginica',\n",
       "  'Iris-virginica',\n",
       "  'Iris-virginica',\n",
       "  'Iris-virginica',\n",
       "  'Iris-virginica',\n",
       "  'Iris-virginica'])"
      ]
     },
     "execution_count": 2,
     "metadata": {},
     "output_type": "execute_result"
    }
   ],
   "source": [
    "#Change it to a list in a list\n",
    "X_train=list(train.values)\n",
    "y_train=[]\n",
    "for i in range(len(X_train)):\n",
    "    y_train.append(X_train[i][-1])\n",
    "    X_train[i]=list(X_train[i][:-1])\n",
    "\n",
    "X_test=list(test.values)\n",
    "y_test=[]\n",
    "for i in range(len(X_test)):\n",
    "    y_test.append(X_test[i][-1])\n",
    "    X_test[i]=list(X_test[i][:-1])\n",
    "\n",
    "def KNN_list(train, test, k=3):\n",
    "    \n",
    "    \n",
    "    \n",
    "    #Euclidean Distance\n",
    "    def distance(x,z):\n",
    "        s = 0\n",
    "        for i in range(len(x)):\n",
    "            s += (x[i] - z[i])**2\n",
    "        return math.sqrt(s)\n",
    "    \n",
    "    #frequency\n",
    "    def freq(List):\n",
    "        k=max(set(List), key = List.count)\n",
    "        return k\n",
    "\n",
    "    \n",
    "    #prediction\n",
    "    def pred(train_points, test_point):\n",
    "        d_list=[]\n",
    "        for i in range(len(train_points)):\n",
    "            d_list.append(distance(train_points[i],test_point))\n",
    "        \n",
    "        arg_D=np.argsort(d_list)\n",
    "        li=[]\n",
    "        #K-value\n",
    "        for i in range(k): \n",
    "            li.append(y_train[arg_D[i]])    \n",
    "        return freq(li)\n",
    "    \n",
    "    #the prediction list and iteration on x_test\n",
    "    y_pred=[]\n",
    "    for i in range(len(X_test)):\n",
    "        y_pred.append(pred(X_train, X_test[i]))\n",
    "    \n",
    "    #Classification accuracy\n",
    "    from sklearn import metrics\n",
    "    accuracy=metrics.accuracy_score(y_test, y_pred)\n",
    "    \n",
    "    return print(\"Classification accuracy:\",accuracy*100,'%'),y_pred\n",
    "KNN_list(X_train, X_test, k=3)"
   ]
  },
  {
   "cell_type": "markdown",
   "id": "cc819081",
   "metadata": {},
   "source": [
    "# 2 Array"
   ]
  },
  {
   "cell_type": "code",
   "execution_count": 5,
   "id": "2c40b589",
   "metadata": {},
   "outputs": [
    {
     "name": "stdout",
     "output_type": "stream",
     "text": [
      "Classification accuracy: 100.0 %\n"
     ]
    }
   ],
   "source": [
    "#chenge it to Numpy array\n",
    "train=np.array(train)\n",
    "test=np.array(test)\n",
    "\n",
    "x_train=np.array(train[:,:-1])\n",
    "y_train=np.array(train[:,-1])\n",
    "\n",
    "x_test=np.array(test[:,:-1])\n",
    "y_test=np.array(test[:,-1])\n",
    "\n",
    "def euclidean_distance(x1, x2):\n",
    "#calculates the euclidean distance between two samples\n",
    "    return np.sqrt(np.sum((x1 - x2) ** 2))\n",
    "\n",
    "def find_k_neighbors(X_train, y_train, x_test, k):\n",
    "#Finds the k nearest neighbors of a test sample\n",
    "    distances = np.array([euclidean_distance(x_test, x_train[i]) for i in range(X_train.shape[0])])\n",
    "    sorted_indices = np.argsort(distances)\n",
    "    return sorted_indices[:k]\n",
    "\n",
    "def predict(y_train, neighbors):\n",
    "    #Makes a prediction based on the majority class of the k nearest neighbors\n",
    "    votes = np.array([y_train[i] for i in neighbors])\n",
    "    vote_count = Counter(votes)\n",
    "    return vote_count.most_common(1)[0][0]\n",
    "\n",
    "def KNN(X_train, y_train, X_test, y_test, k=3):\n",
    "    #Main KNN function that takes in train and test sets and returns predictions and accuracy\n",
    "    y_pred = []\n",
    "    for i in range(X_test.shape[0]):\n",
    "        neighbors = find_k_neighbors(X_train, y_train, X_test[i], k)\n",
    "        y_pred.append(predict(y_train, neighbors))\n",
    "    accuracy = metrics.accuracy_score(y_test, y_pred)\n",
    "    return y_pred, accuracy\n",
    "\n",
    "y_pred, accuracy = KNN(x_train, y_train, x_test, y_test, k=3)\n",
    "print(\"Classification accuracy:\", accuracy*100, '%')"
   ]
  },
  {
   "cell_type": "code",
   "execution_count": 3,
   "id": "7247c34e",
   "metadata": {},
   "outputs": [
    {
     "name": "stdout",
     "output_type": "stream",
     "text": [
      "Classification accuracy: 34.0 %\n"
     ]
    }
   ],
   "source": [
    "import numpy as np\n",
    "from collections import Counter\n",
    "from sklearn import metrics\n",
    "\n",
    "# Convert lists to Numpy arrays\n",
    "train = np.array(train)\n",
    "test = np.array(test)\n",
    "\n",
    "x_train = train[:, :-1]\n",
    "y_train = train[:, -1]\n",
    "\n",
    "x_test = test[:, :-1]\n",
    "y_test = test[:, -1]\n",
    "\n",
    "def euclidean_distance(x1, x2):\n",
    "    # Calculates the Euclidean distance between two samples using Numpy's broadcasting\n",
    "    return np.sqrt(np.sum((x1 - x2) ** 2))\n",
    "\n",
    "def find_k_neighbors(X_train, y_train, x_test, k):\n",
    "    # Finds the k nearest neighbors of a test sample using Numpy's broadcasting\n",
    "    distances = euclidean_distance(X_train, x_test)\n",
    "    sorted_indices = np.argsort(distances)\n",
    "    return sorted_indices[:k]\n",
    "\n",
    "def predict(y_train, neighbors):\n",
    "    # Makes a prediction based on the majority class of the k nearest neighbors\n",
    "    votes = y_train[neighbors]\n",
    "    vote_count = Counter(votes)\n",
    "    return vote_count.most_common(1)[0][0]\n",
    "\n",
    "def KNN(X_train, y_train, X_test, y_test, k=3):\n",
    "    # Main KNN function that takes in train and test sets and returns predictions and accuracy\n",
    "    y_pred = []\n",
    "    for x_test_sample in X_test:\n",
    "        neighbors = find_k_neighbors(X_train, y_train, x_test_sample, k)\n",
    "        y_pred.append(predict(y_train, neighbors))\n",
    "    accuracy = metrics.accuracy_score(y_test, y_pred)\n",
    "    return y_pred, accuracy\n",
    "\n",
    "y_pred, accuracy = KNN(x_train, y_train, x_test, y_test, k=3)\n",
    "print(\"Classification accuracy:\", accuracy * 100, '%')\n"
   ]
  },
  {
   "cell_type": "code",
   "execution_count": 4,
   "id": "b696820f",
   "metadata": {},
   "outputs": [
    {
     "name": "stdout",
     "output_type": "stream",
     "text": [
      "Classification accuracy: 100.0 %\n"
     ]
    },
    {
     "data": {
      "text/plain": [
       "Text(0, 0.5, 'Time complexity')"
      ]
     },
     "execution_count": 4,
     "metadata": {},
     "output_type": "execute_result"
    },
    {
     "data": {
      "image/png": "[encoded data removed]",
      "text/plain": [
       "<Figure size 640x480 with 1 Axes>"
      ]
     },
     "metadata": {},
     "output_type": "display_data"
    }
   ],
   "source": [
    "import matplotlib.pyplot as plt\n",
    "\n",
    "t1=time.time()\n",
    "KNN_list(X_train, X_test,k=3)\n",
    "tt1=time.time()-t1\n",
    "\n",
    "t2=time.time()\n",
    "KNN(x_train, y_train, x_test, y_test, k=3)\n",
    "tt2=time.time()\n",
    "\n",
    "\n",
    "a=[\"Using list\",\"Using array\"]\n",
    "b=[tt1,tt2]\n",
    "plt.bar(a,b)\n",
    "plt.xlabel(\"List vs Array\")\n",
    "plt.ylabel(\"Time complexity\")\n"
   ]
  },
  {
   "cell_type": "code",
   "execution_count": null,
   "id": "0bac71cc",
   "metadata": {},
   "outputs": [],
   "source": []
  }
 ],
 "metadata": {
  "kernelspec": {
   "display_name": "Python 3 (ipykernel)",
   "language": "python",
   "name": "python3"
  },
  "language_info": {
   "codemirror_mode": {
    "name": "ipython",
    "version": 3
   },
   "file_extension": ".py",
   "mimetype": "text/x-python",
   "name": "python",
   "nbconvert_exporter": "python",
   "pygments_lexer": "ipython3",
   "version": "3.10.7"
  }
 },
 "nbformat": 4,
 "nbformat_minor": 5
}
